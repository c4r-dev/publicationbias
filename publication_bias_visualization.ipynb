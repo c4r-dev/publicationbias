{
 "cells": [
  {
   "cell_type": "markdown",
   "id": "2eae5e3c",
   "metadata": {},
   "source": [
    "\n",
    "# Intuition for Publication Bias\n",
    "\n",
    "This notebook visualizes the impact of publication bias on research findings. It uses Plotly for data visualization.\n"
   ]
  },
  {
   "cell_type": "code",
   "execution_count": null,
   "id": "d513ba28",
   "metadata": {},
   "outputs": [],
   "source": [
    "\n",
    "import numpy as np\n",
    "import plotly.graph_objects as go\n",
    "import plotly.subplots as sp\n",
    "\n",
    "def plot_bias(non_significant_rate, effect_size):\n",
    "    significant_rate = 1 - non_significant_rate\n",
    "    dark_blue = \"#1f77b4\"\n",
    "    dark_orange = \"#ff7f0e\"\n",
    "\n",
    "    x_values = np.linspace(-10, 10, 500)\n",
    "    real_pdf = np.exp(-0.5 * (x_values - effect_size) ** 2) / np.sqrt(2 * np.pi)\n",
    "\n",
    "    published_pdf = np.copy(real_pdf)\n",
    "    published_pdf[x_values < 2] *= significant_rate\n",
    "    published_pdf /= np.trapz(published_pdf, x_values)\n",
    "\n",
    "    bins = [-10, -1.96, 0, 1.96, 10]\n",
    "    real_integrals = [np.trapz(real_pdf[(x_values >= bins[i]) & (x_values < bins[i + 1])],\n",
    "                               x_values[(x_values >= bins[i]) & (x_values < bins[i + 1])])\n",
    "                      for i in range(len(bins) - 1)]\n",
    "    published_integrals = [np.trapz(published_pdf[(x_values >= bins[i]) & (x_values < bins[i + 1])],\n",
    "                                    x_values[(x_values >= bins[i]) & (x_values < bins[i + 1])])\n",
    "                           for i in range(len(bins) - 1)]\n",
    "\n",
    "    bar_labels = [\"p<0.05, neg\", \"NS, neg\", \"NS, pos\", \"p<0.05, pos\"]\n",
    "    real_bar_values = np.array(real_integrals) / np.sum(real_integrals)\n",
    "    published_bar_values = np.array(published_integrals) / np.sum(published_integrals)\n",
    "\n",
    "    fig = sp.make_subplots(\n",
    "        rows=4, cols=1,\n",
    "        row_heights=[0.25, 0.25, 0.25, 0.25],\n",
    "        vertical_spacing=0.1,\n",
    "        subplot_titles=[\n",
    "            \"Distribution of Real Effects\",\n",
    "            \"Distribution of Published Papers\",\n",
    "            \"Significance of Experiments\",\n",
    "            \"Significance of Published Papers\"\n",
    "        ]\n",
    "    )\n",
    "\n",
    "    fig.add_trace(go.Scatter(x=x_values, y=real_pdf, mode='lines', line=dict(color=dark_blue)), row=1, col=1)\n",
    "    fig.add_trace(go.Scatter(x=x_values, y=published_pdf, mode='lines', line=dict(color=dark_orange)), row=2, col=1)\n",
    "    fig.add_trace(go.Bar(x=bar_labels, y=real_bar_values, marker_color=dark_blue), row=3, col=1)\n",
    "    fig.add_trace(go.Bar(x=bar_labels, y=published_bar_values, marker_color=dark_orange), row=4, col=1)\n",
    "\n",
    "    fig.update_layout(\n",
    "        autosize=True,\n",
    "        height=900,\n",
    "        title=\"Publication Bias Visualization\",\n",
    "        title_x=0.5,\n",
    "        showlegend=False\n",
    "    )\n",
    "\n",
    "    fig.update_xaxes(title_text=\"Z-score (mean/std)\", row=1, col=1)\n",
    "    fig.update_yaxes(title_text=\"Density\", row=1, col=1)\n",
    "    fig.update_xaxes(title_text=\"Z-score (mean/std)\", row=2, col=1)\n",
    "    fig.update_yaxes(title_text=\"Density\", row=2, col=1)\n",
    "    return fig\n",
    "\n",
    "# Display an initial plot\n",
    "plot_bias(0.5, 1).show()\n"
   ]
  }
 ],
 "metadata": {
  "kernelspec": {
   "display_name": "Python 3",
   "language": "python",
   "name": "python3"
  },
  "language_info": {
   "name": "python",
   "version": "3.12.6"
  }
 },
 "nbformat": 4,
 "nbformat_minor": 5
}
