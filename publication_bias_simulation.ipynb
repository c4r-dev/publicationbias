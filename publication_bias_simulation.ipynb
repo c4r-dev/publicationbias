{
 "cells": [
  {
   "cell_type": "markdown",
   "id": "374712c4",
   "metadata": {},
   "source": [
    "# Intuition: This is how the literature is affected by publication bias and effect size\n",
    "\n",
    "This notebook simulates the effects of publication bias and varying effect sizes on the published literature. Each logical step is clearly delineated."
   ]
  },
  {
   "cell_type": "markdown",
   "id": "082be184",
   "metadata": {},
   "source": [
    "## Step 1: Import Necessary Libraries\n",
    "\n",
    "We will import the required Python libraries: `numpy`, `plotly`, and others as needed."
   ]
  },
  {
   "cell_type": "code",
   "execution_count": null,
   "id": "8d9ccb7d",
   "metadata": {},
   "outputs": [],
   "source": [
    "import numpy as np\n",
    "import plotly.graph_objects as go\n",
    "import plotly.subplots as sp\n"
   ]
  },
  {
   "cell_type": "markdown",
   "id": "9cfd161f",
   "metadata": {},
   "source": [
    "## Step 2: Define Helper Functions\n",
    "\n",
    "These functions include utilities to compute distributions and average Z-scores."
   ]
  },
  {
   "cell_type": "code",
   "execution_count": null,
   "id": "ae25d131",
   "metadata": {},
   "outputs": [],
   "source": [
    "def numpy_to_list(obj):\n",
    "    if isinstance(obj, np.ndarray):\n",
    "        return obj.tolist()\n",
    "    elif isinstance(obj, dict):\n",
    "        return {key: numpy_to_list(value) for key, value in obj.items()}\n",
    "    elif isinstance(obj, list):\n",
    "        return [numpy_to_list(item) for item in obj]\n",
    "    else:\n",
    "        return obj\n",
    "\n",
    "def compute_average_z(x, y):\n",
    "    return np.trapz(y * x, x) / np.trapz(y, x)\n"
   ]
  },
  {
   "cell_type": "markdown",
   "id": "7bf0354c",
   "metadata": {},
   "source": [
    "## Step 3: Plot Bias Simulation\n",
    "\n",
    "This function generates the plots for publication bias based on the effect size and publication selectivity."
   ]
  },
  {
   "cell_type": "code",
   "execution_count": null,
   "id": "da65ce6f",
   "metadata": {},
   "outputs": [],
   "source": [
    "def plot_bias(s2, effect):\n",
    "    s = 1 - s2\n",
    "    dark_blue = \"#1f77b4\"\n",
    "    dark_orange = \"#ff7f0e\"\n",
    "\n",
    "    x1 = np.linspace(-10, 10, 500)\n",
    "    y1 = np.exp(-0.5 * (x1 - effect)**2) / np.sqrt(2 * np.pi)\n",
    "\n",
    "    x2 = np.linspace(-10, 10, 500)\n",
    "    y2 = np.exp(-0.5 * (x2 - effect)**2)\n",
    "    y2[x2 < 2] *= s\n",
    "    y2 /= np.trapz(y2, x2)\n",
    "\n",
    "    avg_z1 = compute_average_z(x1, y1)\n",
    "    avg_z2 = compute_average_z(x2, y2)\n",
    "\n",
    "    fig = sp.make_subplots(rows=2, cols=1, shared_xaxes=False, vertical_spacing=0.2,\n",
    "                           subplot_titles=(\"Distribution of Real Effects\",\n",
    "                                           \"Distribution of Published Papers\"))\n",
    "\n",
    "    fig.add_trace(go.Scatter(x=x1, y=y1, mode='lines', line=dict(color=dark_blue),\n",
    "                             name=\"Real Effects\"), row=1, col=1)\n",
    "    fig.add_trace(go.Scatter(x=x2, y=y2, mode='lines', line=dict(color=dark_orange),\n",
    "                             name=\"Published Papers\"), row=2, col=1)\n",
    "\n",
    "    fig.add_annotation(x=10, y=max(y1), text=f\"Avg Z: {avg_z1:.2f}\", showarrow=False,\n",
    "                     font=dict(color=\"red\", size=12), xanchor=\"right\", yanchor=\"top\", row=1, col=1)\n",
    "    fig.add_annotation(x=10, y=max(y2), text=f\"Avg Z: {avg_z2:.2f}\", showarrow=False,\n",
    "                     font=dict(color=\"red\", size=12), xanchor=\"right\", yanchor=\"top\", row=2, col=1)\n",
    "\n",
    "    fig.update_xaxes(title_text=\"Z-score (mean/std)\", range=[-10, 10], row=1, col=1)\n",
    "    fig.update_xaxes(title_text=\"Z-score (mean/std)\", range=[-10, 10], row=2, col=1)\n",
    "    fig.update_layout(height=900, width=800, margin=dict(t=100, b=50, l=50, r=50))\n",
    "\n",
    "    fig.show()\n"
   ]
  },
  {
   "cell_type": "markdown",
   "id": "34dfcbbe",
   "metadata": {},
   "source": [
    "## Step 4: Interactive Simulation\n",
    "\n",
    "Adjust parameters and visualize the impact of publication bias and effect size."
   ]
  },
  {
   "cell_type": "code",
   "execution_count": null,
   "id": "a27b80fb",
   "metadata": {},
   "outputs": [],
   "source": [
    "s2 = 0.5  # Proportion of non-significant/negative results not published\n",
    "effect = 0.5  # Effect size (mu/std)\n",
    "plot_bias(s2, effect)"
   ]
  },
  {
   "cell_type": "markdown",
   "id": "08e2cf82",
   "metadata": {},
   "source": [
    "## Conclusion\n",
    "\n",
    "This notebook demonstrates how publication bias and varying effect sizes shape the published literature."
   ]
  }
 ],
 "metadata": {},
 "nbformat": 4,
 "nbformat_minor": 5
}